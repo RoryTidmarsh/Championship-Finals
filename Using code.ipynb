{
 "cells": [
  {
   "cell_type": "code",
   "execution_count": 1,
   "id": "4d5ebdb6-bc49-4433-a4cf-98c47d0674c1",
   "metadata": {},
   "outputs": [],
   "source": [
    "import champ_placement as chp"
   ]
  },
  {
   "cell_type": "code",
   "execution_count": 2,
   "id": "dca41f3d-15b1-41ff-a6ad-205561dfdec7",
   "metadata": {},
   "outputs": [
    {
     "name": "stderr",
     "output_type": "stream",
     "text": [
      "C:\\Users\\rorti\\OneDrive\\Documents\\coding\\agility code\\champ placment code\\Attempt_2_2024\\champ_placement.py:18: UserWarning: Parsing dates in %d/%m/%Y format when dayfirst=False (the default) was specified. Pass `dayfirst=True` or specify a format to silence this warning.\n",
      "  self.shows_df['Date'] = pd.to_datetime(self.shows_df['Date'])\n"
     ]
    },
    {
     "name": "stdout",
     "output_type": "stream",
     "text": [
      "Last show to run was nottingham\n",
      "Matching rows found:\n",
      "Nottingham Agility Dog Training Club\n"
     ]
    },
    {
     "ename": "ValueError",
     "evalue": "Height 'Med' not found at 'nottingham' show",
     "output_type": "error",
     "traceback": [
      "\u001b[1;31m---------------------------------------------------------------------------\u001b[0m",
      "\u001b[1;31mValueError\u001b[0m                                Traceback (most recent call last)",
      "Cell \u001b[1;32mIn[2], line 7\u001b[0m\n\u001b[0;32m      4\u001b[0m height \u001b[38;5;241m=\u001b[39m\u001b[38;5;124m'\u001b[39m\u001b[38;5;124mMed\u001b[39m\u001b[38;5;124m'\u001b[39m\n\u001b[0;32m      6\u001b[0m \u001b[38;5;66;03m#get the top 20 by calling index 0\u001b[39;00m\n\u001b[1;32m----> 7\u001b[0m show\u001b[38;5;241m.\u001b[39moverall_results(height)[\u001b[38;5;241m0\u001b[39m]\n",
      "File \u001b[1;32m~\\OneDrive\\Documents\\coding\\agility code\\champ placment code\\Attempt_2_2024\\champ_placement.py:387\u001b[0m, in \u001b[0;36mchamp_placement.overall_results\u001b[1;34m(self, height)\u001b[0m\n\u001b[0;32m    377\u001b[0m \u001b[38;5;250m\u001b[39m\u001b[38;5;124;03m'''creates the final overall top 20 and the overall placings\u001b[39;00m\n\u001b[0;32m    378\u001b[0m \u001b[38;5;124;03mINPUTS\u001b[39;00m\n\u001b[0;32m    379\u001b[0m \u001b[38;5;124;03morganisation_name_to_find - REQUIRED, the name of the organisation/show as shown on Agility Plaza\u001b[39;00m\n\u001b[1;32m   (...)\u001b[0m\n\u001b[0;32m    383\u001b[0m \u001b[38;5;124;03mdf_top_20 - pandas dataframe containing the top 20 placings\u001b[39;00m\n\u001b[0;32m    384\u001b[0m \u001b[38;5;124;03mdf_placings - pandas dataframe containing the overall results, not limited to the top 20'''\u001b[39;00m\n\u001b[0;32m    386\u001b[0m \u001b[38;5;66;03m#creating the list of the results from both rounds\u001b[39;00m\n\u001b[1;32m--> 387\u001b[0m results_df_list \u001b[38;5;241m=\u001b[39m \u001b[38;5;28mself\u001b[39m\u001b[38;5;241m.\u001b[39mdf_results(height)\n\u001b[0;32m    389\u001b[0m \u001b[38;5;66;03m#seperating the 2 result dataframes from the list\u001b[39;00m\n\u001b[0;32m    390\u001b[0m df1 \u001b[38;5;241m=\u001b[39m results_df_list[\u001b[38;5;241m0\u001b[39m]\n",
      "File \u001b[1;32m~\\OneDrive\\Documents\\coding\\agility code\\champ placment code\\Attempt_2_2024\\champ_placement.py:373\u001b[0m, in \u001b[0;36mchamp_placement.df_results\u001b[1;34m(self, height)\u001b[0m\n\u001b[0;32m    370\u001b[0m     \u001b[38;5;28mprint\u001b[39m(\u001b[38;5;124m\"\u001b[39m\u001b[38;5;124mOnly 1 class has run or is running, wait for the other class to start before trying again\u001b[39m\u001b[38;5;124m\"\u001b[39m)\n\u001b[0;32m    372\u001b[0m \u001b[38;5;28;01melse\u001b[39;00m:\n\u001b[1;32m--> 373\u001b[0m     \u001b[38;5;28;01mraise\u001b[39;00m \u001b[38;5;167;01mValueError\u001b[39;00m(\u001b[38;5;124mf\u001b[39m\u001b[38;5;124m\"\u001b[39m\u001b[38;5;124mHeight \u001b[39m\u001b[38;5;124m'\u001b[39m\u001b[38;5;132;01m{\u001b[39;00mheight\u001b[38;5;132;01m}\u001b[39;00m\u001b[38;5;124m'\u001b[39m\u001b[38;5;124m not found at \u001b[39m\u001b[38;5;124m'\u001b[39m\u001b[38;5;132;01m{\u001b[39;00m\u001b[38;5;28mself\u001b[39m\u001b[38;5;241m.\u001b[39mnearest_show()\u001b[38;5;132;01m}\u001b[39;00m\u001b[38;5;124m'\u001b[39m\u001b[38;5;124m show\u001b[39m\u001b[38;5;124m\"\u001b[39m)\n",
      "\u001b[1;31mValueError\u001b[0m: Height 'Med' not found at 'nottingham' show"
     ]
    }
   ],
   "source": [
    "#initialise the class\n",
    "show = chp.champ_placement()\n",
    "\n",
    "height ='Med'\n",
    "\n",
    "#get the top 20 by calling index 0\n",
    "show.overall_results(height)[0]"
   ]
  },
  {
   "cell_type": "code",
   "execution_count": 11,
   "id": "965dee88-bfc7-40f9-8b29-f3c1a14d3306",
   "metadata": {},
   "outputs": [
    {
     "data": {
      "text/html": [
       "<div>\n",
       "<style scoped>\n",
       "    .dataframe tbody tr th:only-of-type {\n",
       "        vertical-align: middle;\n",
       "    }\n",
       "\n",
       "    .dataframe tbody tr th {\n",
       "        vertical-align: top;\n",
       "    }\n",
       "\n",
       "    .dataframe thead th {\n",
       "        text-align: right;\n",
       "    }\n",
       "</style>\n",
       "<table border=\"1\" class=\"dataframe\">\n",
       "  <thead>\n",
       "    <tr style=\"text-align: right;\">\n",
       "      <th></th>\n",
       "      <th>Class Name</th>\n",
       "      <th>Link</th>\n",
       "      <th>Height</th>\n",
       "    </tr>\n",
       "    <tr>\n",
       "      <th>class number</th>\n",
       "      <th></th>\n",
       "      <th></th>\n",
       "      <th></th>\n",
       "    </tr>\n",
       "  </thead>\n",
       "  <tbody>\n",
       "    <tr>\n",
       "      <th>1a</th>\n",
       "      <td>1a Med Championship Agility</td>\n",
       "      <td>agilityplaza.com/agilityClass/2145046481/results</td>\n",
       "      <td>Med</td>\n",
       "    </tr>\n",
       "    <tr>\n",
       "      <th>1b</th>\n",
       "      <td>1b Med Championship Jumping</td>\n",
       "      <td>agilityplaza.com/agilityClass/1502233900/results</td>\n",
       "      <td>Med</td>\n",
       "    </tr>\n",
       "    <tr>\n",
       "      <th>2a</th>\n",
       "      <td>2a Sml Championship Agility</td>\n",
       "      <td>agilityplaza.com/agilityClass/1095826957/results</td>\n",
       "      <td>Sml</td>\n",
       "    </tr>\n",
       "    <tr>\n",
       "      <th>2b</th>\n",
       "      <td>2b Sml Championship Jumping</td>\n",
       "      <td>agilityplaza.com/agilityClass/2035264167/results</td>\n",
       "      <td>Sml</td>\n",
       "    </tr>\n",
       "    <tr>\n",
       "      <th>1b</th>\n",
       "      <td>1b Med Championship Jumping</td>\n",
       "      <td>agilityplaza.com/agilityClass/1502233900/runni...</td>\n",
       "      <td>Med</td>\n",
       "    </tr>\n",
       "    <tr>\n",
       "      <th>2a</th>\n",
       "      <td>2a Sml Championship Agility</td>\n",
       "      <td>agilityplaza.com/agilityClass/1095826957/runni...</td>\n",
       "      <td>Sml</td>\n",
       "    </tr>\n",
       "    <tr>\n",
       "      <th>41b</th>\n",
       "      <td>41b Lge Championship Jumping</td>\n",
       "      <td>agilityplaza.com/agilityClass/1414088872/runni...</td>\n",
       "      <td>Lge</td>\n",
       "    </tr>\n",
       "    <tr>\n",
       "      <th>41a</th>\n",
       "      <td>41a Lge Championship Agility</td>\n",
       "      <td>agilityplaza.com/agilityClass/1796429669/runni...</td>\n",
       "      <td>Lge</td>\n",
       "    </tr>\n",
       "    <tr>\n",
       "      <th>42b</th>\n",
       "      <td>42b Int Championship Jumping</td>\n",
       "      <td>agilityplaza.com/agilityClass/1156656411/runni...</td>\n",
       "      <td>Int</td>\n",
       "    </tr>\n",
       "    <tr>\n",
       "      <th>42a</th>\n",
       "      <td>42a Int Championship Agility</td>\n",
       "      <td>agilityplaza.com/agilityClass/2090734979/runni...</td>\n",
       "      <td>Int</td>\n",
       "    </tr>\n",
       "  </tbody>\n",
       "</table>\n",
       "</div>"
      ],
      "text/plain": [
       "                                Class Name  \\\n",
       "class number                                 \n",
       "1a             1a Med Championship Agility   \n",
       "1b             1b Med Championship Jumping   \n",
       "2a             2a Sml Championship Agility   \n",
       "2b             2b Sml Championship Jumping   \n",
       "1b             1b Med Championship Jumping   \n",
       "2a             2a Sml Championship Agility   \n",
       "41b           41b Lge Championship Jumping   \n",
       "41a           41a Lge Championship Agility   \n",
       "42b           42b Int Championship Jumping   \n",
       "42a           42a Int Championship Agility   \n",
       "\n",
       "                                                           Link Height  \n",
       "class number                                                            \n",
       "1a             agilityplaza.com/agilityClass/2145046481/results    Med  \n",
       "1b             agilityplaza.com/agilityClass/1502233900/results    Med  \n",
       "2a             agilityplaza.com/agilityClass/1095826957/results    Sml  \n",
       "2b             agilityplaza.com/agilityClass/2035264167/results    Sml  \n",
       "1b            agilityplaza.com/agilityClass/1502233900/runni...    Med  \n",
       "2a            agilityplaza.com/agilityClass/1095826957/runni...    Sml  \n",
       "41b           agilityplaza.com/agilityClass/1414088872/runni...    Lge  \n",
       "41a           agilityplaza.com/agilityClass/1796429669/runni...    Lge  \n",
       "42b           agilityplaza.com/agilityClass/1156656411/runni...    Int  \n",
       "42a           agilityplaza.com/agilityClass/2090734979/runni...    Int  "
      ]
     },
     "execution_count": 11,
     "metadata": {},
     "output_type": "execute_result"
    }
   ],
   "source": [
    "#get the overall non E by calling index 1\n",
    "df = show.find_classes()\n",
    "df_cleaned = df.drop_duplicates(subset=\"Class Name\", keep=\"first\")\n",
    "df"
   ]
  },
  {
   "cell_type": "code",
   "execution_count": null,
   "id": "7343969a-9381-4407-b9ba-1b558e11c57a",
   "metadata": {},
   "outputs": [],
   "source": []
  }
 ],
 "metadata": {
  "kernelspec": {
   "display_name": "Python 3 (ipykernel)",
   "language": "python",
   "name": "python3"
  },
  "language_info": {
   "codemirror_mode": {
    "name": "ipython",
    "version": 3
   },
   "file_extension": ".py",
   "mimetype": "text/x-python",
   "name": "python",
   "nbconvert_exporter": "python",
   "pygments_lexer": "ipython3",
   "version": "3.11.7"
  }
 },
 "nbformat": 4,
 "nbformat_minor": 5
}
