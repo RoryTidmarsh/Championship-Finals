{
 "cells": [
  {
   "cell_type": "code",
   "execution_count": 3,
   "id": "d53f9d95",
   "metadata": {},
   "outputs": [],
   "source": [
    "import requests\n",
    "from bs4 import BeautifulSoup\n",
    "import numpy as np\n",
    "from urllib.parse import urljoin\n",
    "import pandas as pd\n",
    "from datetime import datetime"
   ]
  },
  {
   "cell_type": "code",
   "execution_count": null,
   "id": "ae1144a4",
   "metadata": {},
   "outputs": [],
   "source": []
  },
  {
   "cell_type": "markdown",
   "id": "135bcd28",
   "metadata": {},
   "source": [
    "[Year_Link_finder](#years)"
   ]
  },
  {
   "cell_type": "markdown",
   "id": "34a503a7",
   "metadata": {},
   "source": [
    "---\n",
    "<a id=years></a>"
   ]
  },
  {
   "cell_type": "code",
   "execution_count": 20,
   "id": "7e4d7a8a",
   "metadata": {},
   "outputs": [
    {
     "data": {
      "text/plain": [
       "{'2004': 'https://www.agilityplaza.com/results/2004',\n",
       " '2005': 'https://www.agilityplaza.com/results/2005',\n",
       " '2006': 'https://www.agilityplaza.com/results/2006',\n",
       " '2007': 'https://www.agilityplaza.com/results/2007',\n",
       " '2008': 'https://www.agilityplaza.com/results/2008',\n",
       " '2009': 'https://www.agilityplaza.com/results/2009',\n",
       " '2010': 'https://www.agilityplaza.com/results/2010',\n",
       " '2011': 'https://www.agilityplaza.com/results/2011',\n",
       " '2012': 'https://www.agilityplaza.com/results/2012',\n",
       " '2013': 'https://www.agilityplaza.com/results/2013',\n",
       " '2014': 'https://www.agilityplaza.com/results/2014',\n",
       " '2015': 'https://www.agilityplaza.com/results/2015',\n",
       " '2016': 'https://www.agilityplaza.com/results/2016',\n",
       " '2017': 'https://www.agilityplaza.com/results/2017',\n",
       " '2018': 'https://www.agilityplaza.com/results/2018',\n",
       " '2019': 'https://www.agilityplaza.com/results/2019',\n",
       " '2020': 'https://www.agilityplaza.com/results/2020',\n",
       " '2021': 'https://www.agilityplaza.com/results/2021',\n",
       " '2022': 'https://www.agilityplaza.com/results/2022',\n",
       " '2023': 'https://www.agilityplaza.com/results/2023',\n",
       " '2024': 'https://www.agilityplaza.com/results/2024'}"
      ]
     },
     "execution_count": 20,
     "metadata": {},
     "output_type": "execute_result"
    }
   ],
   "source": [
    "def year_link_finder(min_year=None, max_year=None):\n",
    "    base_link = \"https://www.agilityplaza.com/results/\"\n",
    "    \n",
    "    if min_year ==None:\n",
    "        min_year = 2004\n",
    "    if max_year == None:\n",
    "        max_year = int(datetime.now().date().strftime(\"%Y\"))\n",
    "\n",
    "    years = np.arange(min_year, max_year+1,1).astype(str)\n",
    "    year_link = {}\n",
    "    for year in years:\n",
    "        year_link[year] = base_link + year\n",
    "\n",
    "    return year_link\n",
    "year_link_finder()"
   ]
  },
  {
   "cell_type": "markdown",
   "id": "0717b0b5",
   "metadata": {},
   "source": [
    "---"
   ]
  },
  {
   "cell_type": "code",
   "execution_count": 5,
   "id": "8c1f072b",
   "metadata": {},
   "outputs": [
    {
     "name": "stdout",
     "output_type": "stream",
     "text": [
      "2024\n"
     ]
    }
   ],
   "source": [
    "current_year = datetime.now().date().strftime(\"%Y\")\n",
    "print(currentDateTime)\n"
   ]
  },
  {
   "cell_type": "code",
   "execution_count": null,
   "id": "b0fe96fb",
   "metadata": {},
   "outputs": [],
   "source": []
  },
  {
   "cell_type": "code",
   "execution_count": null,
   "id": "75ddf312",
   "metadata": {},
   "outputs": [],
   "source": []
  },
  {
   "cell_type": "code",
   "execution_count": null,
   "id": "c577d4c3",
   "metadata": {},
   "outputs": [],
   "source": []
  },
  {
   "cell_type": "code",
   "execution_count": null,
   "id": "101ee6ab",
   "metadata": {},
   "outputs": [],
   "source": []
  }
 ],
 "metadata": {
  "kernelspec": {
   "display_name": "Python 3 (ipykernel)",
   "language": "python",
   "name": "python3"
  },
  "language_info": {
   "codemirror_mode": {
    "name": "ipython",
    "version": 3
   },
   "file_extension": ".py",
   "mimetype": "text/x-python",
   "name": "python",
   "nbconvert_exporter": "python",
   "pygments_lexer": "ipython3",
   "version": "3.11.4"
  }
 },
 "nbformat": 4,
 "nbformat_minor": 5
}
