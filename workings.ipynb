{
 "cells": [
  {
   "cell_type": "code",
   "execution_count": 1,
   "id": "d53f9d95",
   "metadata": {},
   "outputs": [],
   "source": [
    "import requests\n",
    "from bs4 import BeautifulSoup\n",
    "import numpy as np\n",
    "from urllib.parse import urljoin\n",
    "import pandas as pd\n",
    "from datetime import datetime"
   ]
  },
  {
   "cell_type": "code",
   "execution_count": 2,
   "id": "ae1144a4",
   "metadata": {},
   "outputs": [],
   "source": [
    "import champ_placement as chp"
   ]
  },
  {
   "cell_type": "markdown",
   "id": "0673781d",
   "metadata": {},
   "source": [
    "<a id =\"top\"></a>"
   ]
  },
  {
   "cell_type": "markdown",
   "id": "135bcd28",
   "metadata": {},
   "source": [
    "### Important functions in the champ_placement class\n",
    " - [Year_Link_finder](#years)\n",
    " - [month_soup](#month)\n",
    " - [recent_champ](#recent_champ)\n",
    " - [find_classes](#find_classes)"
   ]
  },
  {
   "cell_type": "markdown",
   "id": "34a503a7",
   "metadata": {},
   "source": [
    "---\n",
    "<a id=years></a>"
   ]
  },
  {
   "cell_type": "code",
   "execution_count": 3,
   "id": "7e4d7a8a",
   "metadata": {},
   "outputs": [
    {
     "name": "stdout",
     "output_type": "stream",
     "text": [
      "{'2024': 'https://www.agilityplaza.com/results/2024'}\n",
      "https://www.agilityplaza.com/results/2024\n"
     ]
    }
   ],
   "source": [
    "def year_link_finder(min_year=None, max_year=None):\n",
    "    base_link = \"https://www.agilityplaza.com/results/\"\n",
    "    \n",
    "    if min_year ==None:\n",
    "        min_year = 2004\n",
    "    if max_year == None:\n",
    "        max_year = int(datetime.now().date().strftime(\"%Y\"))\n",
    "\n",
    "    years = np.arange(min_year, max_year+1,1).astype(str)\n",
    "    year_link = {}\n",
    "    for year in years:\n",
    "        year_link[year] = base_link + year\n",
    "\n",
    "    return year_link\n",
    "\n",
    "def current_year_link():\n",
    "        current_year = str(datetime.now().date().strftime(\"%Y\"))\n",
    "        base_link = \"https://www.agilityplaza.com/results/\"\n",
    "        year_link = base_link+current_year\n",
    "        return year_link\n",
    "        \n",
    "print(year_link_finder(2024))\n",
    "print(current_year_link())"
   ]
  },
  {
   "cell_type": "markdown",
   "id": "0717b0b5",
   "metadata": {},
   "source": [
    "---\n",
    "<a id=\"month\"></a>"
   ]
  },
  {
   "cell_type": "markdown",
   "id": "e25e7cc5",
   "metadata": {},
   "source": [
    "## Month_soup\n",
    "this returns the html soup of the current year and the month specified by the `months_ago` argument.\n",
    "\n",
    "\n",
    "[back to the top](#top)"
   ]
  },
  {
   "cell_type": "code",
   "execution_count": 4,
   "id": "75ddf312",
   "metadata": {},
   "outputs": [
    {
     "name": "stdout",
     "output_type": "stream",
     "text": [
      "[<tr>\n",
      "<th>Dates</th>\n",
      "<th>Name</th>\n",
      "</tr>, <tr class=\"clickable-row organization6\" data-href=\"/competition/1335471852/results\">\n",
      "<td>Sat 16</td>\n",
      "<td>Go Go Hoopers</td>\n",
      "</tr>, <tr class=\"clickable-row organization6\" data-href=\"/competition/1459703690/results\">\n",
      "<td>Sat 16</td>\n",
      "<td>Super Hoopers</td>\n",
      "</tr>, <tr class=\"clickable-row organization1\" data-href=\"/competition/1507416262/results\">\n",
      "<td>Sat 16</td>\n",
      "<td>Kelluki Agility</td>\n",
      "</tr>, <tr class=\"clickable-row organization200\" data-href=\"/competition/1825988804/results\">\n",
      "<td>Sat 16 - Sun 17</td>\n",
      "<td>Team GB Tryout Weekend 2</td>\n",
      "</tr>]\n"
     ]
    }
   ],
   "source": [
    "champ_placement_instance = chp.champ_placement()\n",
    "\n",
    "def month_soup(self, months_ago=0, return_month=False):\n",
    "    \"\"\"\n",
    "    Extracts a portion of HTML soup corresponding to a specific month's data from agility plaza.\n",
    "\n",
    "    Args:\n",
    "        self: Instance of the class containing the method.\n",
    "        months_ago (int, optional): An integer indicating how many months ago the function should extract data for. Default is 0, representing the current month.\n",
    "        return_month (bool, optional): A boolean indicating whether to return the month name along with the soup. Default is False.\n",
    "\n",
    "    Returns:\n",
    "        list or tuple: If return_month is False, returns a list of HTML elements between the selected month's data. If return_month is True, returns a tuple containing a list of HTML elements and the name of the month.\n",
    "\n",
    "    Description:\n",
    "        This function sends an HTTP GET request to the URL specified by self.current_year_link, parses the response content using BeautifulSoup, and locates all <thead> elements within the HTML soup. It selects the <thead> element corresponding to the month specified by months_ago (default is 0 for the current month). It retrieves all HTML elements between the selected <thead> element and the next <thead> element. If return_month is set to True, the function extracts the month name from the selected <thead> element. Finally, it returns either the extracted HTML elements or both the HTML elements and the month name, depending on the value of return_month.\n",
    "    \"\"\"\n",
    "    # Send an HTTP GET request to the URL\n",
    "    url = self.current_year_link\n",
    "    response = requests.get(url)\n",
    "    soup = BeautifulSoup(response.content, 'html.parser')\n",
    "    \n",
    "    # Find all <thead> elements\n",
    "    theads = soup.find_all(\"thead\")\n",
    "    \n",
    "    # Get the first <thead>\n",
    "    first_thead = theads[months_ago]\n",
    "\n",
    "    # Find the elements between the first and second <thead>\n",
    "    elements_between = []\n",
    "    current_element = first_thead.find_next_sibling()\n",
    "    while current_element and current_element.name != 'thead':\n",
    "        elements_between.append(current_element)\n",
    "        current_element = current_element.find_next_sibling()\n",
    "\n",
    "    if return_month:\n",
    "        month = first_thead.text.strip().split(\" \")[0]\n",
    "        return elements_between, month\n",
    "    else:\n",
    "        return elements_between\n",
    "\n",
    "\n",
    "print(month_soup(champ_placement_instance)[:5])\n"
   ]
  },
  {
   "cell_type": "markdown",
   "id": "e0487165",
   "metadata": {},
   "source": [
    "<a id = \"recent_champ\"></a>"
   ]
  },
  {
   "cell_type": "markdown",
   "id": "59986f40",
   "metadata": {},
   "source": [
    "## recent_champ\n",
    "finds the link to the show with the most recent championship in it.\n",
    "There is also `champ_this_year` which should find all champs in the year but it doesn't work - this is mainly here for a later project that might need this feature\n",
    "\n",
    "\n",
    "[back to the top](#top)"
   ]
  },
  {
   "cell_type": "code",
   "execution_count": 5,
   "id": "5dd3080d",
   "metadata": {},
   "outputs": [
    {
     "data": {
      "text/plain": [
       "('https://www.agilityplaza.com/competition/2052012361/results',\n",
       " 'Derbyshire Championship Agility Show')"
      ]
     },
     "execution_count": 5,
     "metadata": {},
     "output_type": "execute_result"
    }
   ],
   "source": [
    "champ_placement_instance = chp.champ_placement()\n",
    "\n",
    "def recent_champ(self, months_ago=0, print_statement=True):\n",
    "    \"\"\"\n",
    "    Finds the most recent championship competition within a specified range of months.\n",
    "\n",
    "    Args:\n",
    "        self: Instance of the class containing the method.\n",
    "        months_ago (int, optional): Number of months ago to start searching for championships. Default is 0, representing the current month.\n",
    "        print_statement (bool, optional): Whether to print search progress and results. Default is True.\n",
    "\n",
    "    Returns:\n",
    "        tuple or None: A tuple containing the link and name of the most recent championship competition if found, or None if no championship is found within the specified range.\n",
    "\n",
    "    Description:\n",
    "        This function searches for the most recent championship competition within a specified range of months. It starts the search from the current month (or a specified number of months ago) and goes back up to 12 months. For each month, it retrieves the HTML soup corresponding to the competition data and checks if any competition contains the word \"Championship\" in its name. If a championship is found, it returns a tuple containing the link and name of the championship competition. If no championship is found within the specified range, it returns None. The function optionally prints search progress and results based on the value of the print_statement parameter.\n",
    "    \"\"\"\n",
    "    max_months = 12  # Maximum number of months to go back\n",
    "    for i in range(months_ago, max_months + 1):\n",
    "        month_soup = self.month_soup(i)\n",
    "        Name = None\n",
    "        link = None\n",
    "\n",
    "        for j in range(1, len(month_soup)):\n",
    "            td_element = month_soup[j].find_all('td')[-1]\n",
    "\n",
    "            if \"Championship\" in td_element.text:\n",
    "                Name = td_element.text\n",
    "                link =  self.base_link[:-9] + month_soup[j].get('data-href')\n",
    "                if print_statement ==True:\n",
    "                    print(f\"Championship found in {td_element.text}, link {link}\")\n",
    "                    \n",
    "                return link, Name  # Exit the function once Championship is found\n",
    "                break\n",
    "\n",
    "        if Name is None:\n",
    "            if print_statement==True:\n",
    "                print(f\"No competition with 'Championship' in the name was found for {i} months ago. Trying next month.\")\n",
    "            \n",
    "    if print_statement ==True:\n",
    "        print(\"No competition with 'Championship' in the name was found in the last\", max_months, \"months.\")\n",
    "    return None\n",
    "\n",
    "def champ_this_year(self, months_ago=0, print_statement=True):\n",
    "    '''this almost works but there is an index error in the month_soup with the indexing from max_months. Need to fix month_soup funciton to use this.'''\n",
    "    max_months = 12  # Maximum number of months to go back\n",
    "    championships = []  # List to store found championships\n",
    "\n",
    "    for i in range(months_ago, max_months + 1):\n",
    "        month_soup = self.month_soup(i)\n",
    "\n",
    "        for j in range(1, len(month_soup)):\n",
    "            td_element = month_soup[j].find_all('td')[-1]\n",
    "\n",
    "            if \"Championship\" in td_element.text:\n",
    "                Name = td_element.text\n",
    "                link =  self.base_link[:-9] + month_soup[j].get('data-href')\n",
    "                championships.append((Name, link))  # Append championship name and link to the list\n",
    "                \n",
    "                if print_statement:\n",
    "                    print(f\"Championship found in {Name}, link {link}\")\n",
    "\n",
    "    if not championships:\n",
    "        print(\"No competition with 'Championship' in the name was found in the last\", max_months, \"months.\")\n",
    "        \n",
    "    return championships\n",
    "\n",
    "# recent_champ(champ_placement_instance)\n",
    "\n",
    "\n",
    "recent_champ(champ_placement_instance, months_ago = 2, print_statement = False)"
   ]
  },
  {
   "cell_type": "markdown",
   "id": "6a414873",
   "metadata": {},
   "source": [
    "---\n",
    "<a id = \"find_classes\"></a>"
   ]
  },
  {
   "cell_type": "markdown",
   "id": "53a4db39",
   "metadata": {},
   "source": [
    "## find_classes\n",
    "This function finds the link to all the championship classes in the competition with a \n",
    "\n",
    "[back to the top](#top)"
   ]
  },
  {
   "cell_type": "code",
   "execution_count": 6,
   "id": "1681257b",
   "metadata": {},
   "outputs": [
    {
     "data": {
      "text/html": [
       "<div>\n",
       "<style scoped>\n",
       "    .dataframe tbody tr th:only-of-type {\n",
       "        vertical-align: middle;\n",
       "    }\n",
       "\n",
       "    .dataframe tbody tr th {\n",
       "        vertical-align: top;\n",
       "    }\n",
       "\n",
       "    .dataframe thead th {\n",
       "        text-align: right;\n",
       "    }\n",
       "</style>\n",
       "<table border=\"1\" class=\"dataframe\">\n",
       "  <thead>\n",
       "    <tr style=\"text-align: right;\">\n",
       "      <th></th>\n",
       "      <th>Class Name</th>\n",
       "      <th>Link</th>\n",
       "      <th>Height</th>\n",
       "    </tr>\n",
       "    <tr>\n",
       "      <th>class number</th>\n",
       "      <th></th>\n",
       "      <th></th>\n",
       "      <th></th>\n",
       "    </tr>\n",
       "  </thead>\n",
       "  <tbody>\n",
       "    <tr>\n",
       "      <th>1a</th>\n",
       "      <td>1a Lge Championship Agility</td>\n",
       "      <td>agilityplaza.com/agilityClass/1227118621/results</td>\n",
       "      <td>Lge</td>\n",
       "    </tr>\n",
       "    <tr>\n",
       "      <th>1b</th>\n",
       "      <td>1b Lge Championship Jumping</td>\n",
       "      <td>agilityplaza.com/agilityClass/1496930129/results</td>\n",
       "      <td>Lge</td>\n",
       "    </tr>\n",
       "    <tr>\n",
       "      <th>2a</th>\n",
       "      <td>2a Int Championship Agility</td>\n",
       "      <td>agilityplaza.com/agilityClass/2045207625/results</td>\n",
       "      <td>Int</td>\n",
       "    </tr>\n",
       "    <tr>\n",
       "      <th>2b</th>\n",
       "      <td>2b Int Championship Jumping</td>\n",
       "      <td>agilityplaza.com/agilityClass/1468004139/results</td>\n",
       "      <td>Int</td>\n",
       "    </tr>\n",
       "  </tbody>\n",
       "</table>\n",
       "</div>"
      ],
      "text/plain": [
       "                               Class Name  \\\n",
       "class number                                \n",
       "1a            1a Lge Championship Agility   \n",
       "1b            1b Lge Championship Jumping   \n",
       "2a            2a Int Championship Agility   \n",
       "2b            2b Int Championship Jumping   \n",
       "\n",
       "                                                          Link Height  \n",
       "class number                                                           \n",
       "1a            agilityplaza.com/agilityClass/1227118621/results    Lge  \n",
       "1b            agilityplaza.com/agilityClass/1496930129/results    Lge  \n",
       "2a            agilityplaza.com/agilityClass/2045207625/results    Int  \n",
       "2b            agilityplaza.com/agilityClass/1468004139/results    Int  "
      ]
     },
     "execution_count": 6,
     "metadata": {},
     "output_type": "execute_result"
    }
   ],
   "source": [
    "champ_placement_instance = chp.champ_placement()\n",
    "\n",
    "import pandas as pd\n",
    "\n",
    "def find_classes(self, months_ago=0, print_statement=False):\n",
    "    \"\"\"\n",
    "    Extracts information about championship classes from the agility plaza website and organizes it into a pandas DataFrame.\n",
    "\n",
    "    Args:\n",
    "        self: Instance of the class containing the method.\n",
    "        months_ago (int, optional): An integer indicating how many months ago the function should search for championship classes. Default is 0, representing the current month.\n",
    "        print_statement (bool, optional): A boolean indicating whether to print statements during the execution of the function. Default is False.\n",
    "\n",
    "    Returns:\n",
    "        pandas.DataFrame: A DataFrame containing information about championship classes, including the class name, link, and height.\n",
    "\n",
    "    Description:\n",
    "        This function first retrieves the link and name of the most recent championship competition by calling the 'recent_champ' method. It then sends an HTTP GET request to the retrieved link, parses the response content using BeautifulSoup, and locates all 'card-block' elements within the HTML soup. It iterates through each 'card-block' element to find the championship classes. For each class found, it extracts the class name and link and appends them to a list. After gathering all class information, it creates a pandas DataFrame with columns for the class name, link, and height. The height is derived from the second word in the class name. The function sets the DataFrame index to be composed of the first two words extracted from the class name. Finally, it returns the DataFrame containing the championship class information.\n",
    "    \"\"\"\n",
    "    show_link, show_name = self.recent_champ(months_ago, print_statement)\n",
    "    \n",
    "    response = requests.get(show_link)\n",
    "    soup = BeautifulSoup(response.content, 'html.parser')\n",
    "    \n",
    "    # Finding the day and classes in that day\n",
    "    div_elements = soup.find_all(\"div\", class_=\"card-block\")\n",
    "    \n",
    "    class_data = []\n",
    "    for day_div in div_elements:\n",
    "        for a in day_div.find_all('a'):\n",
    "            if \"Championship Jumping\" in a.text:\n",
    "                name = a.text\n",
    "                link = \"agilityplaza.com\" + a.get('href')\n",
    "                class_data.append((name, link))\n",
    "            elif \"Championship Agility\" in a.text:\n",
    "                name = a.text\n",
    "                link = \"agilityplaza.com\" + a.get('href')\n",
    "                class_data.append((name, link))\n",
    "    \n",
    "    # Create a pandas DataFrame\n",
    "    df = pd.DataFrame(class_data, columns=['Class Name', 'Link'])\n",
    "    df['class number'] = df['Class Name'].apply(lambda x: ' '.join(x.split()[:1]))\n",
    "    df.set_index('class number', inplace=True)\n",
    "    df['Height'] = df['Class Name'].apply(lambda x: x.split()[1] if len(x.split()) >= 2 else None)\n",
    "    return df\n",
    "\n",
    "array = find_classes(champ_placement_instance, months_ago = 2, print_statement = False)\n",
    "array"
   ]
  },
  {
   "cell_type": "markdown",
   "id": "1118eaec",
   "metadata": {},
   "source": [
    "### his only works for shows with championship in the name. Lots of shows don't have this -> need to sort this out to get the appropriate show\n",
    "\n",
    "KCI, Derbyshire, Lune Valley, Thames, ..... do not have this\n",
    "\n",
    "This is going to be solved using the KC page https://www.thekennelclub.org.uk/events-and-activities/agility/already-competing-in-agility/qualifying-shows-for-the-kennel-club-events/ to find the shows. This will not work with the data collection database idea"
   ]
  },
  {
   "cell_type": "code",
   "execution_count": 15,
   "id": "89335ab7",
   "metadata": {},
   "outputs": [
    {
     "name": "stdout",
     "output_type": "stream",
     "text": [
      "[<summary class=\"a-details__summary\">Crufts singles - small</summary>]\n",
      "[<summary class=\"a-details__summary\">Crufts singles - medium </summary>]\n",
      "[<summary class=\"a-details__summary\">Crufts singles - intermediate</summary>]\n",
      "[<summary class=\"a-details__summary\">Crufts singles - large</summary>]\n",
      "[<summary class=\"a-details__summary\">Crufts medium ABC agility stakes</summary>]\n",
      "[<summary class=\"a-details__summary\">Crufts intermediate novice ABC agility stakes</summary>]\n",
      "[<summary class=\"a-details__summary\">Crufts large novice ABC agility stakes</summary>]\n",
      "[<summary class=\"a-details__summary\">Small novice cup</summary>]\n",
      "[<summary class=\"a-details__summary\">Medium novice cup</summary>]\n",
      "[<summary class=\"a-details__summary\">Intermediate novice cup</summary>]\n",
      "[<summary class=\"a-details__summary\">Large novice cup</summary>]\n",
      "[<summary class=\"a-details__summary\">Championship Classes – small</summary>]\n",
      "[<summary class=\"a-details__summary\">Championship Classes – medium</summary>]\n",
      "[<summary class=\"a-details__summary\">Championship Classes – intermediate</summary>]\n",
      "[<summary class=\"a-details__summary\">Championship Classes – large</summary>]\n",
      "[<summary class=\"a-details__summary\">Discover Dogs small/mixi pairs challenge</summary>]\n",
      "[<summary class=\"a-details__summary\">The Kennel Club small dog agility stakes</summary>]\n",
      "[<summary class=\"a-details__summary\">The Kennel Club medium dog agility stakes</summary>]\n",
      "[<summary class=\"a-details__summary\">The Kennel Club  intermediate dog agility stakes</summary>]\n",
      "[<summary class=\"a-details__summary\">The Kennel Club large dog agility stakes</summary>]\n",
      "[<summary class=\"a-details__summary\">The Kennel Club large dog ABC agility stakes</summary>]\n"
     ]
    }
   ],
   "source": [
    "heights = ['Lge', 'Int', 'Med', 'Sml']\n",
    "champ_show_link = \"https://www.thekennelclub.org.uk/events-and-activities/agility/already-competing-in-agility/qualifying-shows-for-the-kennel-club-events/\"\n",
    "\n",
    "response = requests.get(champ_show_link)\n",
    "champ_soup = BeautifulSoup(response.content, 'html.parser')\n",
    "\n",
    "# print(type(champ_show_link))\n",
    "\n",
    "soup = champ_soup.find_all(\"details\", class_ = \"a-details\")\n",
    "\n",
    "for event in soup:\n",
    "    print(event.find_all(\"summary\"))\n",
    "\n",
    "\n",
    "\n",
    "                \n",
    "                "
   ]
  },
  {
   "cell_type": "code",
   "execution_count": null,
   "id": "603ba154",
   "metadata": {},
   "outputs": [],
   "source": []
  },
  {
   "cell_type": "code",
   "execution_count": null,
   "id": "b41a6943",
   "metadata": {},
   "outputs": [],
   "source": []
  },
  {
   "cell_type": "code",
   "execution_count": null,
   "id": "536020c6",
   "metadata": {},
   "outputs": [],
   "source": []
  }
 ],
 "metadata": {
  "kernelspec": {
   "display_name": "Python 3 (ipykernel)",
   "language": "python",
   "name": "python3"
  },
  "language_info": {
   "codemirror_mode": {
    "name": "ipython",
    "version": 3
   },
   "file_extension": ".py",
   "mimetype": "text/x-python",
   "name": "python",
   "nbconvert_exporter": "python",
   "pygments_lexer": "ipython3",
   "version": "3.11.4"
  }
 },
 "nbformat": 4,
 "nbformat_minor": 5
}
